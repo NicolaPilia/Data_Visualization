{
  "nbformat": 4,
  "nbformat_minor": 0,
  "metadata": {
    "colab": {
      "name": "Lezione 10-11.ipynb",
      "provenance": [],
      "collapsed_sections": [],
      "toc_visible": true,
      "mount_file_id": "1jOfAuW272I7JPaFplu9cVbYjRba0vpZx",
      "authorship_tag": "ABX9TyM1Ia77ItB48/Nd3l4PDcMi",
      "include_colab_link": true
    },
    "kernelspec": {
      "name": "python3",
      "display_name": "Python 3"
    }
  },
  "cells": [
    {
      "cell_type": "markdown",
      "metadata": {
        "id": "view-in-github",
        "colab_type": "text"
      },
      "source": [
        "<a href=\"https://colab.research.google.com/github/NicolaPilia/Data_Visualization/blob/master/notebook/Lezione_10_11.ipynb\" target=\"_parent\"><img src=\"https://colab.research.google.com/assets/colab-badge.svg\" alt=\"Open In Colab\"/></a>"
      ]
    },
    {
      "cell_type": "code",
      "metadata": {
        "id": "cnxRrFT_6RKw",
        "colab_type": "code",
        "outputId": "3161a56b-c463-42b7-9987-c0fe7cc618b0",
        "colab": {
          "base_uri": "https://localhost:8080/",
          "height": 54
        }
      },
      "source": [
        "%cd /content/drive/My Drive/Colab Notebooks/Data Visualization\n",
        "!ls"
      ],
      "execution_count": 1,
      "outputs": [
        {
          "output_type": "stream",
          "text": [
            "/content/drive/My Drive/Colab Notebooks/Data Visualization\n",
            "myhtml.html  Seaborn.ipynb\n"
          ],
          "name": "stdout"
        }
      ]
    },
    {
      "cell_type": "code",
      "metadata": {
        "id": "QzBoj0DZW47O",
        "colab_type": "code",
        "colab": {}
      },
      "source": [
        "import pandas as pd\n",
        "#df=pd.read_excel('')\n",
        "#leggere un file excel nel drive"
      ],
      "execution_count": 0,
      "outputs": []
    },
    {
      "cell_type": "code",
      "metadata": {
        "id": "bVjKCY6HXUOX",
        "colab_type": "code",
        "outputId": "e30b2002-b4d5-4b38-aa3a-e6fa827cf314",
        "colab": {
          "base_uri": "https://localhost:8080/",
          "height": 72
        }
      },
      "source": [
        "!jupyter nbconvert --to html Seaborn.ipynb --output index.html\n",
        "!ls"
      ],
      "execution_count": 3,
      "outputs": [
        {
          "output_type": "stream",
          "text": [
            "[NbConvertApp] Converting notebook Seaborn.ipynb to html\n",
            "[NbConvertApp] Writing 1217169 bytes to index.html\n",
            "index.html  myhtml.html  Seaborn.ipynb\n"
          ],
          "name": "stdout"
        }
      ]
    },
    {
      "cell_type": "code",
      "metadata": {
        "id": "9QsgkzsFX3Ll",
        "colab_type": "code",
        "colab": {}
      },
      "source": [
        ""
      ],
      "execution_count": 0,
      "outputs": []
    }
  ]
}